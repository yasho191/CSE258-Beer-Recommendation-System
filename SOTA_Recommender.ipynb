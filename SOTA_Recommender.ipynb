{
 "cells": [
  {
   "cell_type": "code",
   "execution_count": 21,
   "metadata": {},
   "outputs": [],
   "source": [
    "import numpy as np\n",
    "import pandas as pd\n",
    "from libreco.data import random_split, DatasetPure\n",
    "from libreco.algorithms import LightGCN  \n",
    "from libreco.evaluation import evaluate\n",
    "from libreco.data import split_by_ratio_chrono, DatasetFeat"
   ]
  },
  {
   "cell_type": "code",
   "execution_count": 2,
   "metadata": {},
   "outputs": [
    {
     "name": "stderr",
     "output_type": "stream",
     "text": [
      "/var/folders/3p/kspp193j03jcwfvhclp18x580000gn/T/ipykernel_66999/2484777156.py:1: DtypeWarning: Columns (1) have mixed types. Specify dtype option on import or set low_memory=False.\n",
      "  df=pd.read_csv('ratebeer_subset.csv')\n"
     ]
    }
   ],
   "source": [
    "df=pd.read_csv('ratebeer_subset.csv')"
   ]
  },
  {
   "cell_type": "code",
   "execution_count": 3,
   "metadata": {},
   "outputs": [
    {
     "data": {
      "text/html": [
       "<div>\n",
       "<style scoped>\n",
       "    .dataframe tbody tr th:only-of-type {\n",
       "        vertical-align: middle;\n",
       "    }\n",
       "\n",
       "    .dataframe tbody tr th {\n",
       "        vertical-align: top;\n",
       "    }\n",
       "\n",
       "    .dataframe thead th {\n",
       "        text-align: right;\n",
       "    }\n",
       "</style>\n",
       "<table border=\"1\" class=\"dataframe\">\n",
       "  <thead>\n",
       "    <tr style=\"text-align: right;\">\n",
       "      <th></th>\n",
       "      <th>beer/name</th>\n",
       "      <th>beer/beerId</th>\n",
       "      <th>beer/brewerId</th>\n",
       "      <th>beer/ABV</th>\n",
       "      <th>beer/style</th>\n",
       "      <th>review/appearance</th>\n",
       "      <th>review/aroma</th>\n",
       "      <th>review/palate</th>\n",
       "      <th>review/taste</th>\n",
       "      <th>review/overall</th>\n",
       "      <th>review/time</th>\n",
       "      <th>review/profileName</th>\n",
       "      <th>review/text</th>\n",
       "      <th>review_length</th>\n",
       "      <th>sentiment_score</th>\n",
       "    </tr>\n",
       "  </thead>\n",
       "  <tbody>\n",
       "    <tr>\n",
       "      <th>0</th>\n",
       "      <td>Coalition Hanso Stout</td>\n",
       "      <td>130191</td>\n",
       "      <td>12062</td>\n",
       "      <td>6.8</td>\n",
       "      <td>Stout</td>\n",
       "      <td>4.0</td>\n",
       "      <td>6.0</td>\n",
       "      <td>2.0</td>\n",
       "      <td>6.0</td>\n",
       "      <td>11.0</td>\n",
       "      <td>2011-07-12</td>\n",
       "      <td>TBone</td>\n",
       "      <td>Draught@brewpub (Portland, OR, ABV 6.2%, 72 IB...</td>\n",
       "      <td>250</td>\n",
       "      <td>4</td>\n",
       "    </tr>\n",
       "    <tr>\n",
       "      <th>1</th>\n",
       "      <td>Pizza Port &amp;#40;San Clemente&amp;#41; Warrior Blac...</td>\n",
       "      <td>96331</td>\n",
       "      <td>3871</td>\n",
       "      <td>7.3</td>\n",
       "      <td>Black IPA</td>\n",
       "      <td>4.0</td>\n",
       "      <td>7.0</td>\n",
       "      <td>4.0</td>\n",
       "      <td>8.0</td>\n",
       "      <td>14.0</td>\n",
       "      <td>2009-01-05</td>\n",
       "      <td>trokini</td>\n",
       "      <td>Tap @ Toronado SD. Pours jet black with a tiny...</td>\n",
       "      <td>548</td>\n",
       "      <td>4</td>\n",
       "    </tr>\n",
       "    <tr>\n",
       "      <th>2</th>\n",
       "      <td>The Rock Dunkel Weisse</td>\n",
       "      <td>42332</td>\n",
       "      <td>4070</td>\n",
       "      <td>5.0</td>\n",
       "      <td>Dunkelweizen</td>\n",
       "      <td>4.0</td>\n",
       "      <td>6.0</td>\n",
       "      <td>3.0</td>\n",
       "      <td>6.0</td>\n",
       "      <td>12.0</td>\n",
       "      <td>2005-03-07</td>\n",
       "      <td>BeerPrince</td>\n",
       "      <td>My first dunkelweizen.  Medium sized head, off...</td>\n",
       "      <td>271</td>\n",
       "      <td>4</td>\n",
       "    </tr>\n",
       "    <tr>\n",
       "      <th>3</th>\n",
       "      <td>Coors Light</td>\n",
       "      <td>707</td>\n",
       "      <td>113</td>\n",
       "      <td>4.2</td>\n",
       "      <td>Pale Lager</td>\n",
       "      <td>2.0</td>\n",
       "      <td>4.0</td>\n",
       "      <td>3.0</td>\n",
       "      <td>5.0</td>\n",
       "      <td>5.0</td>\n",
       "      <td>2007-02-20</td>\n",
       "      <td>mike5203</td>\n",
       "      <td>Not much here, I guess if you like light beer ...</td>\n",
       "      <td>151</td>\n",
       "      <td>3</td>\n",
       "    </tr>\n",
       "    <tr>\n",
       "      <th>4</th>\n",
       "      <td>Henninger Oktoberfest</td>\n",
       "      <td>27667</td>\n",
       "      <td>776</td>\n",
       "      <td>6.0</td>\n",
       "      <td>Oktoberfest/Mrzen</td>\n",
       "      <td>3.0</td>\n",
       "      <td>5.0</td>\n",
       "      <td>3.0</td>\n",
       "      <td>5.0</td>\n",
       "      <td>10.0</td>\n",
       "      <td>2003-10-18</td>\n",
       "      <td>caesar</td>\n",
       "      <td>Sampled at the Utrechts Bokbierfestival 2003: ...</td>\n",
       "      <td>186</td>\n",
       "      <td>3</td>\n",
       "    </tr>\n",
       "  </tbody>\n",
       "</table>\n",
       "</div>"
      ],
      "text/plain": [
       "                                           beer/name beer/beerId  \\\n",
       "0                              Coalition Hanso Stout      130191   \n",
       "1  Pizza Port &#40;San Clemente&#41; Warrior Blac...       96331   \n",
       "2                             The Rock Dunkel Weisse       42332   \n",
       "3                                        Coors Light         707   \n",
       "4                              Henninger Oktoberfest       27667   \n",
       "\n",
       "   beer/brewerId  beer/ABV         beer/style  review/appearance  \\\n",
       "0          12062       6.8              Stout                4.0   \n",
       "1           3871       7.3          Black IPA                4.0   \n",
       "2           4070       5.0       Dunkelweizen                4.0   \n",
       "3            113       4.2         Pale Lager                2.0   \n",
       "4            776       6.0  Oktoberfest/Mrzen                3.0   \n",
       "\n",
       "   review/aroma  review/palate  review/taste  review/overall review/time  \\\n",
       "0           6.0            2.0           6.0            11.0  2011-07-12   \n",
       "1           7.0            4.0           8.0            14.0  2009-01-05   \n",
       "2           6.0            3.0           6.0            12.0  2005-03-07   \n",
       "3           4.0            3.0           5.0             5.0  2007-02-20   \n",
       "4           5.0            3.0           5.0            10.0  2003-10-18   \n",
       "\n",
       "  review/profileName                                        review/text  \\\n",
       "0              TBone  Draught@brewpub (Portland, OR, ABV 6.2%, 72 IB...   \n",
       "1            trokini  Tap @ Toronado SD. Pours jet black with a tiny...   \n",
       "2         BeerPrince  My first dunkelweizen.  Medium sized head, off...   \n",
       "3           mike5203  Not much here, I guess if you like light beer ...   \n",
       "4             caesar  Sampled at the Utrechts Bokbierfestival 2003: ...   \n",
       "\n",
       "   review_length  sentiment_score  \n",
       "0            250                4  \n",
       "1            548                4  \n",
       "2            271                4  \n",
       "3            151                3  \n",
       "4            186                3  "
      ]
     },
     "execution_count": 3,
     "metadata": {},
     "output_type": "execute_result"
    }
   ],
   "source": [
    "df.head()"
   ]
  },
  {
   "cell_type": "code",
   "execution_count": 4,
   "metadata": {},
   "outputs": [],
   "source": [
    "df=df.rename(columns={'beer/beerId':'item'},inplace=False)"
   ]
  },
  {
   "cell_type": "code",
   "execution_count": 5,
   "metadata": {},
   "outputs": [
    {
     "data": {
      "text/html": [
       "<div>\n",
       "<style scoped>\n",
       "    .dataframe tbody tr th:only-of-type {\n",
       "        vertical-align: middle;\n",
       "    }\n",
       "\n",
       "    .dataframe tbody tr th {\n",
       "        vertical-align: top;\n",
       "    }\n",
       "\n",
       "    .dataframe thead th {\n",
       "        text-align: right;\n",
       "    }\n",
       "</style>\n",
       "<table border=\"1\" class=\"dataframe\">\n",
       "  <thead>\n",
       "    <tr style=\"text-align: right;\">\n",
       "      <th></th>\n",
       "      <th>beer/name</th>\n",
       "      <th>item</th>\n",
       "      <th>beer/brewerId</th>\n",
       "      <th>beer/ABV</th>\n",
       "      <th>beer/style</th>\n",
       "      <th>review/appearance</th>\n",
       "      <th>review/aroma</th>\n",
       "      <th>review/palate</th>\n",
       "      <th>review/taste</th>\n",
       "      <th>review/overall</th>\n",
       "      <th>review/time</th>\n",
       "      <th>review/profileName</th>\n",
       "      <th>review/text</th>\n",
       "      <th>review_length</th>\n",
       "      <th>sentiment_score</th>\n",
       "    </tr>\n",
       "  </thead>\n",
       "  <tbody>\n",
       "    <tr>\n",
       "      <th>0</th>\n",
       "      <td>Coalition Hanso Stout</td>\n",
       "      <td>130191</td>\n",
       "      <td>12062</td>\n",
       "      <td>6.8</td>\n",
       "      <td>Stout</td>\n",
       "      <td>4.0</td>\n",
       "      <td>6.0</td>\n",
       "      <td>2.0</td>\n",
       "      <td>6.0</td>\n",
       "      <td>11.0</td>\n",
       "      <td>2011-07-12</td>\n",
       "      <td>TBone</td>\n",
       "      <td>Draught@brewpub (Portland, OR, ABV 6.2%, 72 IB...</td>\n",
       "      <td>250</td>\n",
       "      <td>4</td>\n",
       "    </tr>\n",
       "    <tr>\n",
       "      <th>1</th>\n",
       "      <td>Pizza Port &amp;#40;San Clemente&amp;#41; Warrior Blac...</td>\n",
       "      <td>96331</td>\n",
       "      <td>3871</td>\n",
       "      <td>7.3</td>\n",
       "      <td>Black IPA</td>\n",
       "      <td>4.0</td>\n",
       "      <td>7.0</td>\n",
       "      <td>4.0</td>\n",
       "      <td>8.0</td>\n",
       "      <td>14.0</td>\n",
       "      <td>2009-01-05</td>\n",
       "      <td>trokini</td>\n",
       "      <td>Tap @ Toronado SD. Pours jet black with a tiny...</td>\n",
       "      <td>548</td>\n",
       "      <td>4</td>\n",
       "    </tr>\n",
       "    <tr>\n",
       "      <th>2</th>\n",
       "      <td>The Rock Dunkel Weisse</td>\n",
       "      <td>42332</td>\n",
       "      <td>4070</td>\n",
       "      <td>5.0</td>\n",
       "      <td>Dunkelweizen</td>\n",
       "      <td>4.0</td>\n",
       "      <td>6.0</td>\n",
       "      <td>3.0</td>\n",
       "      <td>6.0</td>\n",
       "      <td>12.0</td>\n",
       "      <td>2005-03-07</td>\n",
       "      <td>BeerPrince</td>\n",
       "      <td>My first dunkelweizen.  Medium sized head, off...</td>\n",
       "      <td>271</td>\n",
       "      <td>4</td>\n",
       "    </tr>\n",
       "    <tr>\n",
       "      <th>3</th>\n",
       "      <td>Coors Light</td>\n",
       "      <td>707</td>\n",
       "      <td>113</td>\n",
       "      <td>4.2</td>\n",
       "      <td>Pale Lager</td>\n",
       "      <td>2.0</td>\n",
       "      <td>4.0</td>\n",
       "      <td>3.0</td>\n",
       "      <td>5.0</td>\n",
       "      <td>5.0</td>\n",
       "      <td>2007-02-20</td>\n",
       "      <td>mike5203</td>\n",
       "      <td>Not much here, I guess if you like light beer ...</td>\n",
       "      <td>151</td>\n",
       "      <td>3</td>\n",
       "    </tr>\n",
       "    <tr>\n",
       "      <th>4</th>\n",
       "      <td>Henninger Oktoberfest</td>\n",
       "      <td>27667</td>\n",
       "      <td>776</td>\n",
       "      <td>6.0</td>\n",
       "      <td>Oktoberfest/Mrzen</td>\n",
       "      <td>3.0</td>\n",
       "      <td>5.0</td>\n",
       "      <td>3.0</td>\n",
       "      <td>5.0</td>\n",
       "      <td>10.0</td>\n",
       "      <td>2003-10-18</td>\n",
       "      <td>caesar</td>\n",
       "      <td>Sampled at the Utrechts Bokbierfestival 2003: ...</td>\n",
       "      <td>186</td>\n",
       "      <td>3</td>\n",
       "    </tr>\n",
       "  </tbody>\n",
       "</table>\n",
       "</div>"
      ],
      "text/plain": [
       "                                           beer/name    item  beer/brewerId  \\\n",
       "0                              Coalition Hanso Stout  130191          12062   \n",
       "1  Pizza Port &#40;San Clemente&#41; Warrior Blac...   96331           3871   \n",
       "2                             The Rock Dunkel Weisse   42332           4070   \n",
       "3                                        Coors Light     707            113   \n",
       "4                              Henninger Oktoberfest   27667            776   \n",
       "\n",
       "   beer/ABV         beer/style  review/appearance  review/aroma  \\\n",
       "0       6.8              Stout                4.0           6.0   \n",
       "1       7.3          Black IPA                4.0           7.0   \n",
       "2       5.0       Dunkelweizen                4.0           6.0   \n",
       "3       4.2         Pale Lager                2.0           4.0   \n",
       "4       6.0  Oktoberfest/Mrzen                3.0           5.0   \n",
       "\n",
       "   review/palate  review/taste  review/overall review/time review/profileName  \\\n",
       "0            2.0           6.0            11.0  2011-07-12              TBone   \n",
       "1            4.0           8.0            14.0  2009-01-05            trokini   \n",
       "2            3.0           6.0            12.0  2005-03-07         BeerPrince   \n",
       "3            3.0           5.0             5.0  2007-02-20           mike5203   \n",
       "4            3.0           5.0            10.0  2003-10-18             caesar   \n",
       "\n",
       "                                         review/text  review_length  \\\n",
       "0  Draught@brewpub (Portland, OR, ABV 6.2%, 72 IB...            250   \n",
       "1  Tap @ Toronado SD. Pours jet black with a tiny...            548   \n",
       "2  My first dunkelweizen.  Medium sized head, off...            271   \n",
       "3  Not much here, I guess if you like light beer ...            151   \n",
       "4  Sampled at the Utrechts Bokbierfestival 2003: ...            186   \n",
       "\n",
       "   sentiment_score  \n",
       "0                4  \n",
       "1                4  \n",
       "2                4  \n",
       "3                3  \n",
       "4                3  "
      ]
     },
     "execution_count": 5,
     "metadata": {},
     "output_type": "execute_result"
    }
   ],
   "source": [
    "df.head()"
   ]
  },
  {
   "cell_type": "code",
   "execution_count": 23,
   "metadata": {},
   "outputs": [],
   "source": [
    "df=df.rename(columns={'review/time':'time'},inplace=False)"
   ]
  },
  {
   "cell_type": "code",
   "execution_count": 24,
   "metadata": {},
   "outputs": [
    {
     "data": {
      "text/html": [
       "<div>\n",
       "<style scoped>\n",
       "    .dataframe tbody tr th:only-of-type {\n",
       "        vertical-align: middle;\n",
       "    }\n",
       "\n",
       "    .dataframe tbody tr th {\n",
       "        vertical-align: top;\n",
       "    }\n",
       "\n",
       "    .dataframe thead th {\n",
       "        text-align: right;\n",
       "    }\n",
       "</style>\n",
       "<table border=\"1\" class=\"dataframe\">\n",
       "  <thead>\n",
       "    <tr style=\"text-align: right;\">\n",
       "      <th></th>\n",
       "      <th>user</th>\n",
       "      <th>item</th>\n",
       "      <th>beer/name</th>\n",
       "      <th>beer/brewerId</th>\n",
       "      <th>beer/ABV</th>\n",
       "      <th>beer/style</th>\n",
       "      <th>review/appearance</th>\n",
       "      <th>review/aroma</th>\n",
       "      <th>review/palate</th>\n",
       "      <th>review/taste</th>\n",
       "      <th>review/overall</th>\n",
       "      <th>time</th>\n",
       "      <th>review/text</th>\n",
       "      <th>review_length</th>\n",
       "      <th>sentiment_score</th>\n",
       "    </tr>\n",
       "  </thead>\n",
       "  <tbody>\n",
       "    <tr>\n",
       "      <th>0</th>\n",
       "      <td>TBone</td>\n",
       "      <td>130191</td>\n",
       "      <td>Coalition Hanso Stout</td>\n",
       "      <td>12062</td>\n",
       "      <td>6.8</td>\n",
       "      <td>Stout</td>\n",
       "      <td>4.0</td>\n",
       "      <td>6.0</td>\n",
       "      <td>2.0</td>\n",
       "      <td>6.0</td>\n",
       "      <td>11.0</td>\n",
       "      <td>2011-07-12</td>\n",
       "      <td>Draught@brewpub (Portland, OR, ABV 6.2%, 72 IB...</td>\n",
       "      <td>250</td>\n",
       "      <td>4</td>\n",
       "    </tr>\n",
       "    <tr>\n",
       "      <th>1</th>\n",
       "      <td>trokini</td>\n",
       "      <td>96331</td>\n",
       "      <td>Pizza Port &amp;#40;San Clemente&amp;#41; Warrior Blac...</td>\n",
       "      <td>3871</td>\n",
       "      <td>7.3</td>\n",
       "      <td>Black IPA</td>\n",
       "      <td>4.0</td>\n",
       "      <td>7.0</td>\n",
       "      <td>4.0</td>\n",
       "      <td>8.0</td>\n",
       "      <td>14.0</td>\n",
       "      <td>2009-01-05</td>\n",
       "      <td>Tap @ Toronado SD. Pours jet black with a tiny...</td>\n",
       "      <td>548</td>\n",
       "      <td>4</td>\n",
       "    </tr>\n",
       "    <tr>\n",
       "      <th>2</th>\n",
       "      <td>BeerPrince</td>\n",
       "      <td>42332</td>\n",
       "      <td>The Rock Dunkel Weisse</td>\n",
       "      <td>4070</td>\n",
       "      <td>5.0</td>\n",
       "      <td>Dunkelweizen</td>\n",
       "      <td>4.0</td>\n",
       "      <td>6.0</td>\n",
       "      <td>3.0</td>\n",
       "      <td>6.0</td>\n",
       "      <td>12.0</td>\n",
       "      <td>2005-03-07</td>\n",
       "      <td>My first dunkelweizen.  Medium sized head, off...</td>\n",
       "      <td>271</td>\n",
       "      <td>4</td>\n",
       "    </tr>\n",
       "    <tr>\n",
       "      <th>3</th>\n",
       "      <td>mike5203</td>\n",
       "      <td>707</td>\n",
       "      <td>Coors Light</td>\n",
       "      <td>113</td>\n",
       "      <td>4.2</td>\n",
       "      <td>Pale Lager</td>\n",
       "      <td>2.0</td>\n",
       "      <td>4.0</td>\n",
       "      <td>3.0</td>\n",
       "      <td>5.0</td>\n",
       "      <td>5.0</td>\n",
       "      <td>2007-02-20</td>\n",
       "      <td>Not much here, I guess if you like light beer ...</td>\n",
       "      <td>151</td>\n",
       "      <td>3</td>\n",
       "    </tr>\n",
       "    <tr>\n",
       "      <th>4</th>\n",
       "      <td>caesar</td>\n",
       "      <td>27667</td>\n",
       "      <td>Henninger Oktoberfest</td>\n",
       "      <td>776</td>\n",
       "      <td>6.0</td>\n",
       "      <td>Oktoberfest/Mrzen</td>\n",
       "      <td>3.0</td>\n",
       "      <td>5.0</td>\n",
       "      <td>3.0</td>\n",
       "      <td>5.0</td>\n",
       "      <td>10.0</td>\n",
       "      <td>2003-10-18</td>\n",
       "      <td>Sampled at the Utrechts Bokbierfestival 2003: ...</td>\n",
       "      <td>186</td>\n",
       "      <td>3</td>\n",
       "    </tr>\n",
       "  </tbody>\n",
       "</table>\n",
       "</div>"
      ],
      "text/plain": [
       "         user    item                                          beer/name  \\\n",
       "0       TBone  130191                              Coalition Hanso Stout   \n",
       "1     trokini   96331  Pizza Port &#40;San Clemente&#41; Warrior Blac...   \n",
       "2  BeerPrince   42332                             The Rock Dunkel Weisse   \n",
       "3    mike5203     707                                        Coors Light   \n",
       "4      caesar   27667                              Henninger Oktoberfest   \n",
       "\n",
       "   beer/brewerId  beer/ABV         beer/style  review/appearance  \\\n",
       "0          12062       6.8              Stout                4.0   \n",
       "1           3871       7.3          Black IPA                4.0   \n",
       "2           4070       5.0       Dunkelweizen                4.0   \n",
       "3            113       4.2         Pale Lager                2.0   \n",
       "4            776       6.0  Oktoberfest/Mrzen                3.0   \n",
       "\n",
       "   review/aroma  review/palate  review/taste  review/overall        time  \\\n",
       "0           6.0            2.0           6.0            11.0  2011-07-12   \n",
       "1           7.0            4.0           8.0            14.0  2009-01-05   \n",
       "2           6.0            3.0           6.0            12.0  2005-03-07   \n",
       "3           4.0            3.0           5.0             5.0  2007-02-20   \n",
       "4           5.0            3.0           5.0            10.0  2003-10-18   \n",
       "\n",
       "                                         review/text  review_length  \\\n",
       "0  Draught@brewpub (Portland, OR, ABV 6.2%, 72 IB...            250   \n",
       "1  Tap @ Toronado SD. Pours jet black with a tiny...            548   \n",
       "2  My first dunkelweizen.  Medium sized head, off...            271   \n",
       "3  Not much here, I guess if you like light beer ...            151   \n",
       "4  Sampled at the Utrechts Bokbierfestival 2003: ...            186   \n",
       "\n",
       "   sentiment_score  \n",
       "0                4  \n",
       "1                4  \n",
       "2                4  \n",
       "3                3  \n",
       "4                3  "
      ]
     },
     "execution_count": 24,
     "metadata": {},
     "output_type": "execute_result"
    }
   ],
   "source": [
    "df.head()"
   ]
  },
  {
   "cell_type": "code",
   "execution_count": 9,
   "metadata": {},
   "outputs": [],
   "source": [
    "columns = df.columns.tolist() "
   ]
  },
  {
   "cell_type": "code",
   "execution_count": 17,
   "metadata": {},
   "outputs": [],
   "source": [
    "columns = [columns[11]] + columns[:11] + columns[12:]"
   ]
  },
  {
   "cell_type": "code",
   "execution_count": 18,
   "metadata": {},
   "outputs": [],
   "source": [
    "df = df[columns]"
   ]
  },
  {
   "cell_type": "code",
   "execution_count": 19,
   "metadata": {},
   "outputs": [
    {
     "data": {
      "text/html": [
       "<div>\n",
       "<style scoped>\n",
       "    .dataframe tbody tr th:only-of-type {\n",
       "        vertical-align: middle;\n",
       "    }\n",
       "\n",
       "    .dataframe tbody tr th {\n",
       "        vertical-align: top;\n",
       "    }\n",
       "\n",
       "    .dataframe thead th {\n",
       "        text-align: right;\n",
       "    }\n",
       "</style>\n",
       "<table border=\"1\" class=\"dataframe\">\n",
       "  <thead>\n",
       "    <tr style=\"text-align: right;\">\n",
       "      <th></th>\n",
       "      <th>user</th>\n",
       "      <th>item</th>\n",
       "      <th>beer/name</th>\n",
       "      <th>beer/brewerId</th>\n",
       "      <th>beer/ABV</th>\n",
       "      <th>beer/style</th>\n",
       "      <th>review/appearance</th>\n",
       "      <th>review/aroma</th>\n",
       "      <th>review/palate</th>\n",
       "      <th>review/taste</th>\n",
       "      <th>review/overall</th>\n",
       "      <th>review/time</th>\n",
       "      <th>review/text</th>\n",
       "      <th>review_length</th>\n",
       "      <th>sentiment_score</th>\n",
       "    </tr>\n",
       "  </thead>\n",
       "  <tbody>\n",
       "    <tr>\n",
       "      <th>0</th>\n",
       "      <td>TBone</td>\n",
       "      <td>130191</td>\n",
       "      <td>Coalition Hanso Stout</td>\n",
       "      <td>12062</td>\n",
       "      <td>6.8</td>\n",
       "      <td>Stout</td>\n",
       "      <td>4.0</td>\n",
       "      <td>6.0</td>\n",
       "      <td>2.0</td>\n",
       "      <td>6.0</td>\n",
       "      <td>11.0</td>\n",
       "      <td>2011-07-12</td>\n",
       "      <td>Draught@brewpub (Portland, OR, ABV 6.2%, 72 IB...</td>\n",
       "      <td>250</td>\n",
       "      <td>4</td>\n",
       "    </tr>\n",
       "    <tr>\n",
       "      <th>1</th>\n",
       "      <td>trokini</td>\n",
       "      <td>96331</td>\n",
       "      <td>Pizza Port &amp;#40;San Clemente&amp;#41; Warrior Blac...</td>\n",
       "      <td>3871</td>\n",
       "      <td>7.3</td>\n",
       "      <td>Black IPA</td>\n",
       "      <td>4.0</td>\n",
       "      <td>7.0</td>\n",
       "      <td>4.0</td>\n",
       "      <td>8.0</td>\n",
       "      <td>14.0</td>\n",
       "      <td>2009-01-05</td>\n",
       "      <td>Tap @ Toronado SD. Pours jet black with a tiny...</td>\n",
       "      <td>548</td>\n",
       "      <td>4</td>\n",
       "    </tr>\n",
       "    <tr>\n",
       "      <th>2</th>\n",
       "      <td>BeerPrince</td>\n",
       "      <td>42332</td>\n",
       "      <td>The Rock Dunkel Weisse</td>\n",
       "      <td>4070</td>\n",
       "      <td>5.0</td>\n",
       "      <td>Dunkelweizen</td>\n",
       "      <td>4.0</td>\n",
       "      <td>6.0</td>\n",
       "      <td>3.0</td>\n",
       "      <td>6.0</td>\n",
       "      <td>12.0</td>\n",
       "      <td>2005-03-07</td>\n",
       "      <td>My first dunkelweizen.  Medium sized head, off...</td>\n",
       "      <td>271</td>\n",
       "      <td>4</td>\n",
       "    </tr>\n",
       "    <tr>\n",
       "      <th>3</th>\n",
       "      <td>mike5203</td>\n",
       "      <td>707</td>\n",
       "      <td>Coors Light</td>\n",
       "      <td>113</td>\n",
       "      <td>4.2</td>\n",
       "      <td>Pale Lager</td>\n",
       "      <td>2.0</td>\n",
       "      <td>4.0</td>\n",
       "      <td>3.0</td>\n",
       "      <td>5.0</td>\n",
       "      <td>5.0</td>\n",
       "      <td>2007-02-20</td>\n",
       "      <td>Not much here, I guess if you like light beer ...</td>\n",
       "      <td>151</td>\n",
       "      <td>3</td>\n",
       "    </tr>\n",
       "    <tr>\n",
       "      <th>4</th>\n",
       "      <td>caesar</td>\n",
       "      <td>27667</td>\n",
       "      <td>Henninger Oktoberfest</td>\n",
       "      <td>776</td>\n",
       "      <td>6.0</td>\n",
       "      <td>Oktoberfest/Mrzen</td>\n",
       "      <td>3.0</td>\n",
       "      <td>5.0</td>\n",
       "      <td>3.0</td>\n",
       "      <td>5.0</td>\n",
       "      <td>10.0</td>\n",
       "      <td>2003-10-18</td>\n",
       "      <td>Sampled at the Utrechts Bokbierfestival 2003: ...</td>\n",
       "      <td>186</td>\n",
       "      <td>3</td>\n",
       "    </tr>\n",
       "  </tbody>\n",
       "</table>\n",
       "</div>"
      ],
      "text/plain": [
       "         user    item                                          beer/name  \\\n",
       "0       TBone  130191                              Coalition Hanso Stout   \n",
       "1     trokini   96331  Pizza Port &#40;San Clemente&#41; Warrior Blac...   \n",
       "2  BeerPrince   42332                             The Rock Dunkel Weisse   \n",
       "3    mike5203     707                                        Coors Light   \n",
       "4      caesar   27667                              Henninger Oktoberfest   \n",
       "\n",
       "   beer/brewerId  beer/ABV         beer/style  review/appearance  \\\n",
       "0          12062       6.8              Stout                4.0   \n",
       "1           3871       7.3          Black IPA                4.0   \n",
       "2           4070       5.0       Dunkelweizen                4.0   \n",
       "3            113       4.2         Pale Lager                2.0   \n",
       "4            776       6.0  Oktoberfest/Mrzen                3.0   \n",
       "\n",
       "   review/aroma  review/palate  review/taste  review/overall review/time  \\\n",
       "0           6.0            2.0           6.0            11.0  2011-07-12   \n",
       "1           7.0            4.0           8.0            14.0  2009-01-05   \n",
       "2           6.0            3.0           6.0            12.0  2005-03-07   \n",
       "3           4.0            3.0           5.0             5.0  2007-02-20   \n",
       "4           5.0            3.0           5.0            10.0  2003-10-18   \n",
       "\n",
       "                                         review/text  review_length  \\\n",
       "0  Draught@brewpub (Portland, OR, ABV 6.2%, 72 IB...            250   \n",
       "1  Tap @ Toronado SD. Pours jet black with a tiny...            548   \n",
       "2  My first dunkelweizen.  Medium sized head, off...            271   \n",
       "3  Not much here, I guess if you like light beer ...            151   \n",
       "4  Sampled at the Utrechts Bokbierfestival 2003: ...            186   \n",
       "\n",
       "   sentiment_score  \n",
       "0                4  \n",
       "1                4  \n",
       "2                4  \n",
       "3                3  \n",
       "4                3  "
      ]
     },
     "execution_count": 19,
     "metadata": {},
     "output_type": "execute_result"
    }
   ],
   "source": [
    "df.head()"
   ]
  },
  {
   "cell_type": "code",
   "execution_count": 27,
   "metadata": {},
   "outputs": [],
   "source": [
    "df['label'] = (df['review/overall'] > 10).astype(int)\n"
   ]
  },
  {
   "cell_type": "code",
   "execution_count": 28,
   "metadata": {},
   "outputs": [
    {
     "data": {
      "text/html": [
       "<div>\n",
       "<style scoped>\n",
       "    .dataframe tbody tr th:only-of-type {\n",
       "        vertical-align: middle;\n",
       "    }\n",
       "\n",
       "    .dataframe tbody tr th {\n",
       "        vertical-align: top;\n",
       "    }\n",
       "\n",
       "    .dataframe thead th {\n",
       "        text-align: right;\n",
       "    }\n",
       "</style>\n",
       "<table border=\"1\" class=\"dataframe\">\n",
       "  <thead>\n",
       "    <tr style=\"text-align: right;\">\n",
       "      <th></th>\n",
       "      <th>user</th>\n",
       "      <th>item</th>\n",
       "      <th>beer/name</th>\n",
       "      <th>beer/brewerId</th>\n",
       "      <th>beer/ABV</th>\n",
       "      <th>beer/style</th>\n",
       "      <th>review/appearance</th>\n",
       "      <th>review/aroma</th>\n",
       "      <th>review/palate</th>\n",
       "      <th>review/taste</th>\n",
       "      <th>review/overall</th>\n",
       "      <th>time</th>\n",
       "      <th>review/text</th>\n",
       "      <th>review_length</th>\n",
       "      <th>sentiment_score</th>\n",
       "      <th>label</th>\n",
       "    </tr>\n",
       "  </thead>\n",
       "  <tbody>\n",
       "    <tr>\n",
       "      <th>0</th>\n",
       "      <td>TBone</td>\n",
       "      <td>130191</td>\n",
       "      <td>Coalition Hanso Stout</td>\n",
       "      <td>12062</td>\n",
       "      <td>6.8</td>\n",
       "      <td>Stout</td>\n",
       "      <td>4.0</td>\n",
       "      <td>6.0</td>\n",
       "      <td>2.0</td>\n",
       "      <td>6.0</td>\n",
       "      <td>11.0</td>\n",
       "      <td>2011-07-12</td>\n",
       "      <td>Draught@brewpub (Portland, OR, ABV 6.2%, 72 IB...</td>\n",
       "      <td>250</td>\n",
       "      <td>4</td>\n",
       "      <td>1</td>\n",
       "    </tr>\n",
       "    <tr>\n",
       "      <th>1</th>\n",
       "      <td>trokini</td>\n",
       "      <td>96331</td>\n",
       "      <td>Pizza Port &amp;#40;San Clemente&amp;#41; Warrior Blac...</td>\n",
       "      <td>3871</td>\n",
       "      <td>7.3</td>\n",
       "      <td>Black IPA</td>\n",
       "      <td>4.0</td>\n",
       "      <td>7.0</td>\n",
       "      <td>4.0</td>\n",
       "      <td>8.0</td>\n",
       "      <td>14.0</td>\n",
       "      <td>2009-01-05</td>\n",
       "      <td>Tap @ Toronado SD. Pours jet black with a tiny...</td>\n",
       "      <td>548</td>\n",
       "      <td>4</td>\n",
       "      <td>1</td>\n",
       "    </tr>\n",
       "    <tr>\n",
       "      <th>2</th>\n",
       "      <td>BeerPrince</td>\n",
       "      <td>42332</td>\n",
       "      <td>The Rock Dunkel Weisse</td>\n",
       "      <td>4070</td>\n",
       "      <td>5.0</td>\n",
       "      <td>Dunkelweizen</td>\n",
       "      <td>4.0</td>\n",
       "      <td>6.0</td>\n",
       "      <td>3.0</td>\n",
       "      <td>6.0</td>\n",
       "      <td>12.0</td>\n",
       "      <td>2005-03-07</td>\n",
       "      <td>My first dunkelweizen.  Medium sized head, off...</td>\n",
       "      <td>271</td>\n",
       "      <td>4</td>\n",
       "      <td>1</td>\n",
       "    </tr>\n",
       "    <tr>\n",
       "      <th>3</th>\n",
       "      <td>mike5203</td>\n",
       "      <td>707</td>\n",
       "      <td>Coors Light</td>\n",
       "      <td>113</td>\n",
       "      <td>4.2</td>\n",
       "      <td>Pale Lager</td>\n",
       "      <td>2.0</td>\n",
       "      <td>4.0</td>\n",
       "      <td>3.0</td>\n",
       "      <td>5.0</td>\n",
       "      <td>5.0</td>\n",
       "      <td>2007-02-20</td>\n",
       "      <td>Not much here, I guess if you like light beer ...</td>\n",
       "      <td>151</td>\n",
       "      <td>3</td>\n",
       "      <td>0</td>\n",
       "    </tr>\n",
       "    <tr>\n",
       "      <th>4</th>\n",
       "      <td>caesar</td>\n",
       "      <td>27667</td>\n",
       "      <td>Henninger Oktoberfest</td>\n",
       "      <td>776</td>\n",
       "      <td>6.0</td>\n",
       "      <td>Oktoberfest/Mrzen</td>\n",
       "      <td>3.0</td>\n",
       "      <td>5.0</td>\n",
       "      <td>3.0</td>\n",
       "      <td>5.0</td>\n",
       "      <td>10.0</td>\n",
       "      <td>2003-10-18</td>\n",
       "      <td>Sampled at the Utrechts Bokbierfestival 2003: ...</td>\n",
       "      <td>186</td>\n",
       "      <td>3</td>\n",
       "      <td>0</td>\n",
       "    </tr>\n",
       "  </tbody>\n",
       "</table>\n",
       "</div>"
      ],
      "text/plain": [
       "         user    item                                          beer/name  \\\n",
       "0       TBone  130191                              Coalition Hanso Stout   \n",
       "1     trokini   96331  Pizza Port &#40;San Clemente&#41; Warrior Blac...   \n",
       "2  BeerPrince   42332                             The Rock Dunkel Weisse   \n",
       "3    mike5203     707                                        Coors Light   \n",
       "4      caesar   27667                              Henninger Oktoberfest   \n",
       "\n",
       "   beer/brewerId  beer/ABV         beer/style  review/appearance  \\\n",
       "0          12062       6.8              Stout                4.0   \n",
       "1           3871       7.3          Black IPA                4.0   \n",
       "2           4070       5.0       Dunkelweizen                4.0   \n",
       "3            113       4.2         Pale Lager                2.0   \n",
       "4            776       6.0  Oktoberfest/Mrzen                3.0   \n",
       "\n",
       "   review/aroma  review/palate  review/taste  review/overall        time  \\\n",
       "0           6.0            2.0           6.0            11.0  2011-07-12   \n",
       "1           7.0            4.0           8.0            14.0  2009-01-05   \n",
       "2           6.0            3.0           6.0            12.0  2005-03-07   \n",
       "3           4.0            3.0           5.0             5.0  2007-02-20   \n",
       "4           5.0            3.0           5.0            10.0  2003-10-18   \n",
       "\n",
       "                                         review/text  review_length  \\\n",
       "0  Draught@brewpub (Portland, OR, ABV 6.2%, 72 IB...            250   \n",
       "1  Tap @ Toronado SD. Pours jet black with a tiny...            548   \n",
       "2  My first dunkelweizen.  Medium sized head, off...            271   \n",
       "3  Not much here, I guess if you like light beer ...            151   \n",
       "4  Sampled at the Utrechts Bokbierfestival 2003: ...            186   \n",
       "\n",
       "   sentiment_score  label  \n",
       "0                4      1  \n",
       "1                4      1  \n",
       "2                4      1  \n",
       "3                3      0  \n",
       "4                3      0  "
      ]
     },
     "execution_count": 28,
     "metadata": {},
     "output_type": "execute_result"
    }
   ],
   "source": [
    "df.head()"
   ]
  },
  {
   "cell_type": "code",
   "execution_count": 32,
   "metadata": {},
   "outputs": [],
   "source": [
    "df['item'] = pd.to_numeric(df['item'], errors='coerce')"
   ]
  },
  {
   "cell_type": "code",
   "execution_count": 33,
   "metadata": {},
   "outputs": [],
   "source": [
    "train_data, test_data = split_by_ratio_chrono(df, test_size=0.2)"
   ]
  },
  {
   "cell_type": "code",
   "execution_count": 34,
   "metadata": {},
   "outputs": [],
   "source": [
    "train_data = DatasetFeat.build_trainset(train_data)"
   ]
  },
  {
   "cell_type": "code",
   "execution_count": 35,
   "metadata": {},
   "outputs": [],
   "source": [
    "train_data, eval_data, test_data = random_split(df, multi_ratios=[0.8, 0.1, 0.1])"
   ]
  },
  {
   "cell_type": "code",
   "execution_count": 36,
   "metadata": {},
   "outputs": [],
   "source": [
    "train_data, data_info = DatasetPure.build_trainset(train_data)\n",
    "eval_data = DatasetPure.build_evalset(eval_data)\n",
    "test_data = DatasetPure.build_testset(test_data)"
   ]
  },
  {
   "cell_type": "code",
   "execution_count": 37,
   "metadata": {},
   "outputs": [],
   "source": [
    "lightgcn = LightGCN(\n",
    "    task=\"ranking\",\n",
    "    data_info=data_info,\n",
    "    loss_type=\"bpr\",\n",
    "    embed_size=16,\n",
    "    n_epochs=2,\n",
    "    lr=1e-3,\n",
    "    batch_size=2048,\n",
    "    num_neg=1,\n",
    "    device=\"cpu\",\n",
    ")"
   ]
  },
  {
   "cell_type": "code",
   "execution_count": 38,
   "metadata": {},
   "outputs": [
    {
     "name": "stdout",
     "output_type": "stream",
     "text": [
      "Training start time: \u001b[35m2024-12-03 18:54:39\u001b[0m\n"
     ]
    },
    {
     "name": "stderr",
     "output_type": "stream",
     "text": [
      "train: 100%|██████████| 196/196 [00:16<00:00, 11.77it/s]\n"
     ]
    },
    {
     "name": "stdout",
     "output_type": "stream",
     "text": [
      "Epoch 1 elapsed: 16.673s\n",
      "\t \u001b[32mtrain_loss: 0.6681\u001b[0m\n"
     ]
    },
    {
     "name": "stderr",
     "output_type": "stream",
     "text": [
      "eval_pointwise: 100%|██████████| 12/12 [00:00<00:00, 1036.33it/s]\n",
      "eval_listwise: 100%|██████████| 9299/9299 [00:12<00:00, 733.16it/s]\n"
     ]
    },
    {
     "name": "stdout",
     "output_type": "stream",
     "text": [
      "\t eval log_loss: 0.6507\n",
      "\t eval roc_auc: 0.8091\n",
      "\t eval precision@10: 0.0043\n",
      "\t eval recall@10: 0.0286\n",
      "\t eval ndcg@10: 0.0192\n",
      "==============================\n"
     ]
    },
    {
     "name": "stderr",
     "output_type": "stream",
     "text": [
      "train: 100%|██████████| 196/196 [00:16<00:00, 11.66it/s]\n"
     ]
    },
    {
     "name": "stdout",
     "output_type": "stream",
     "text": [
      "Epoch 2 elapsed: 16.811s\n",
      "\t \u001b[32mtrain_loss: 0.5037\u001b[0m\n"
     ]
    },
    {
     "name": "stderr",
     "output_type": "stream",
     "text": [
      "eval_pointwise: 100%|██████████| 12/12 [00:00<00:00, 1144.71it/s]\n",
      "eval_listwise: 100%|██████████| 9299/9299 [00:15<00:00, 591.30it/s]\n"
     ]
    },
    {
     "name": "stdout",
     "output_type": "stream",
     "text": [
      "\t eval log_loss: 0.5877\n",
      "\t eval roc_auc: 0.8247\n",
      "\t eval precision@10: 0.0046\n",
      "\t eval recall@10: 0.0306\n",
      "\t eval ndcg@10: 0.0194\n",
      "==============================\n"
     ]
    }
   ],
   "source": [
    "lightgcn.fit(\n",
    "    train_data,\n",
    "    neg_sampling=True,\n",
    "    verbose=2,\n",
    "    eval_data=eval_data,\n",
    "    metrics=[\"loss\", \"roc_auc\", \"precision\", \"recall\", \"ndcg\"],\n",
    ")"
   ]
  },
  {
   "cell_type": "code",
   "execution_count": 39,
   "metadata": {},
   "outputs": [
    {
     "name": "stderr",
     "output_type": "stream",
     "text": [
      "eval_pointwise: 100%|██████████| 12/12 [00:00<00:00, 1134.90it/s]\n",
      "eval_listwise: 100%|██████████| 9345/9345 [00:18<00:00, 499.58it/s]\n"
     ]
    },
    {
     "data": {
      "text/plain": [
       "{'loss': 0.5900897231183508,\n",
       " 'roc_auc': 0.8215677061263928,\n",
       " 'precision': 0.004291064740502942,\n",
       " 'recall': 0.02813468983786295,\n",
       " 'ndcg': 0.018743820525532286}"
      ]
     },
     "execution_count": 39,
     "metadata": {},
     "output_type": "execute_result"
    }
   ],
   "source": [
    "evaluate(\n",
    "    model=lightgcn,\n",
    "    data=test_data,\n",
    "    neg_sampling=True,\n",
    "    metrics=[\"loss\", \"roc_auc\", \"precision\", \"recall\", \"ndcg\"],\n",
    ")\n"
   ]
  },
  {
   "cell_type": "code",
   "execution_count": 40,
   "metadata": {},
   "outputs": [],
   "source": [
    "from libreco.algorithms import NGCF"
   ]
  },
  {
   "cell_type": "code",
   "execution_count": 41,
   "metadata": {},
   "outputs": [
    {
     "name": "stdout",
     "output_type": "stream",
     "text": [
      "Training start time: \u001b[35m2024-12-03 18:57:20\u001b[0m\n"
     ]
    },
    {
     "name": "stderr",
     "output_type": "stream",
     "text": [
      "train: 100%|██████████| 1563/1563 [15:45<00:00,  1.65it/s]\n"
     ]
    },
    {
     "name": "stdout",
     "output_type": "stream",
     "text": [
      "Epoch 1 elapsed: 945.159s\n",
      "\t \u001b[32mtrain_loss: 0.2019\u001b[0m\n"
     ]
    },
    {
     "name": "stderr",
     "output_type": "stream",
     "text": [
      "eval_pointwise: 100%|██████████| 12/12 [00:00<00:00, 150.08it/s]\n",
      "eval_listwise: 100%|██████████| 9299/9299 [00:57<00:00, 163.02it/s]\n"
     ]
    },
    {
     "name": "stdout",
     "output_type": "stream",
     "text": [
      "\t eval log_loss: 0.4728\n",
      "\t eval roc_auc: 0.9126\n",
      "\t eval precision@10: 0.0048\n",
      "\t eval recall@10: 0.0255\n",
      "\t eval ndcg@10: 0.0229\n",
      "==============================\n"
     ]
    },
    {
     "name": "stderr",
     "output_type": "stream",
     "text": [
      "train: 100%|██████████| 1563/1563 [15:30<00:00,  1.68it/s]\n"
     ]
    },
    {
     "name": "stdout",
     "output_type": "stream",
     "text": [
      "Epoch 2 elapsed: 930.810s\n",
      "\t \u001b[32mtrain_loss: 0.1889\u001b[0m\n"
     ]
    },
    {
     "name": "stderr",
     "output_type": "stream",
     "text": [
      "eval_pointwise: 100%|██████████| 12/12 [00:00<00:00, 159.67it/s]\n",
      "eval_listwise: 100%|██████████| 9299/9299 [00:41<00:00, 223.16it/s]\n"
     ]
    },
    {
     "name": "stdout",
     "output_type": "stream",
     "text": [
      "\t eval log_loss: 0.4716\n",
      "\t eval roc_auc: 0.9120\n",
      "\t eval precision@10: 0.0044\n",
      "\t eval recall@10: 0.0232\n",
      "\t eval ndcg@10: 0.0204\n",
      "==============================\n"
     ]
    }
   ],
   "source": [
    "ngcf = NGCF(\n",
    "    task=\"ranking\",\n",
    "    data_info=data_info,\n",
    "    loss_type=\"bpr\",\n",
    "    embed_size=128,\n",
    "    n_epochs=2,\n",
    "    lr=1e-3,\n",
    "    batch_size=1024,\n",
    "    num_neg=4,\n",
    "    device=\"cpu\",  # Adjust to \"gpu\" if available for faster training\n",
    "    reg=1e-4,  # Regularization parameter\n",
    "    node_dropout=0.1,\n",
    "    message_dropout=0.1,\n",
    "    hidden_units=(64, 64, 64),\n",
    "    sampler=\"unconsumed\"  # Sampling strategy\n",
    ")\n",
    "\n",
    "# Train the NGCF model\n",
    "ngcf.fit(\n",
    "    train_data,\n",
    "    neg_sampling=True,\n",
    "    verbose=2,\n",
    "    eval_data=eval_data,\n",
    "    metrics=[\"loss\", \"roc_auc\", \"precision\", \"recall\", \"ndcg\"]\n",
    ")"
   ]
  },
  {
   "cell_type": "code",
   "execution_count": 42,
   "metadata": {},
   "outputs": [
    {
     "name": "stderr",
     "output_type": "stream",
     "text": [
      "eval_pointwise: 100%|██████████| 12/12 [00:00<00:00, 82.37it/s]\n",
      "eval_listwise: 100%|██████████| 9345/9345 [01:11<00:00, 131.34it/s]\n"
     ]
    },
    {
     "data": {
      "text/plain": [
       "{'loss': 0.4730526964921808,\n",
       " 'roc_auc': 0.9114739845121007,\n",
       " 'precision': 0.004419475655430711,\n",
       " 'recall': 0.024559688194076456,\n",
       " 'ndcg': 0.02030234651857002}"
      ]
     },
     "execution_count": 42,
     "metadata": {},
     "output_type": "execute_result"
    }
   ],
   "source": [
    "evaluate(\n",
    "    model=ngcf,\n",
    "    data=test_data,\n",
    "    neg_sampling=True,\n",
    "    metrics=[\"loss\", \"roc_auc\", \"precision\", \"recall\", \"ndcg\"],\n",
    ")"
   ]
  },
  {
   "cell_type": "code",
   "execution_count": 43,
   "metadata": {},
   "outputs": [
    {
     "data": {
      "text/plain": [
       "{'TBone': array([ 23998., 122920.,  12729.,  39758.,  23764.,   5464.,  69223.])}"
      ]
     },
     "execution_count": 43,
     "metadata": {},
     "output_type": "execute_result"
    }
   ],
   "source": [
    "lightgcn.recommend_user(user='TBone', n_rec=7)"
   ]
  },
  {
   "cell_type": "code",
   "execution_count": 44,
   "metadata": {},
   "outputs": [
    {
     "data": {
      "text/plain": [
       "{'TBone': array([ 49895., 152709., 150781.,   4793.,  40807.,  26894.,  66795.])}"
      ]
     },
     "execution_count": 44,
     "metadata": {},
     "output_type": "execute_result"
    }
   ],
   "source": [
    "ngcf.recommend_user(user='TBone', n_rec=7)"
   ]
  },
  {
   "cell_type": "code",
   "execution_count": null,
   "metadata": {},
   "outputs": [],
   "source": []
  },
  {
   "cell_type": "code",
   "execution_count": null,
   "metadata": {},
   "outputs": [],
   "source": []
  }
 ],
 "metadata": {
  "kernelspec": {
   "display_name": "Python 3",
   "language": "python",
   "name": "python3"
  },
  "language_info": {
   "codemirror_mode": {
    "name": "ipython",
    "version": 3
   },
   "file_extension": ".py",
   "mimetype": "text/x-python",
   "name": "python",
   "nbconvert_exporter": "python",
   "pygments_lexer": "ipython3",
   "version": "3.12.2"
  },
  "orig_nbformat": 4
 },
 "nbformat": 4,
 "nbformat_minor": 2
}
